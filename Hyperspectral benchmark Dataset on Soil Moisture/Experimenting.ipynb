{
 "cells": [
  {
   "cell_type": "code",
   "execution_count": 419,
   "metadata": {},
   "outputs": [],
   "source": [
    "import pandas as pd\n",
    "import numpy as np\n",
    "import ete3\n",
    "from sklearn.preprocessing import StandardScaler\n",
    "from sklearn.cluster import AgglomerativeClustering, k_means, KMeans\n",
    "from sklearn.metrics import silhouette_score\n",
    "from sklearn.model_selection import StratifiedKFold\n",
    "from sklearn.metrics import accuracy_score\n",
    "import scipy.cluster.hierarchy as shc\n",
    "from scipy.spatial.distance import cdist\n",
    "import matplotlib.pyplot as plt"
   ]
  },
  {
   "cell_type": "code",
   "execution_count": 69,
   "metadata": {},
   "outputs": [],
   "source": [
    "soil = pd.read_csv('dataset/soilmoisture_dataset.csv')"
   ]
  },
  {
   "cell_type": "code",
   "execution_count": 70,
   "metadata": {},
   "outputs": [
    {
     "data": {
      "text/html": [
       "<div>\n",
       "<style scoped>\n",
       "    .dataframe tbody tr th:only-of-type {\n",
       "        vertical-align: middle;\n",
       "    }\n",
       "\n",
       "    .dataframe tbody tr th {\n",
       "        vertical-align: top;\n",
       "    }\n",
       "\n",
       "    .dataframe thead th {\n",
       "        text-align: right;\n",
       "    }\n",
       "</style>\n",
       "<table border=\"1\" class=\"dataframe\">\n",
       "  <thead>\n",
       "    <tr style=\"text-align: right;\">\n",
       "      <th></th>\n",
       "      <th>index</th>\n",
       "      <th>datetime</th>\n",
       "      <th>soil_moisture</th>\n",
       "      <th>soil_temperature</th>\n",
       "      <th>454</th>\n",
       "      <th>458</th>\n",
       "      <th>462</th>\n",
       "      <th>466</th>\n",
       "      <th>470</th>\n",
       "      <th>474</th>\n",
       "      <th>...</th>\n",
       "      <th>914</th>\n",
       "      <th>918</th>\n",
       "      <th>922</th>\n",
       "      <th>926</th>\n",
       "      <th>930</th>\n",
       "      <th>934</th>\n",
       "      <th>938</th>\n",
       "      <th>942</th>\n",
       "      <th>946</th>\n",
       "      <th>950</th>\n",
       "    </tr>\n",
       "  </thead>\n",
       "  <tbody>\n",
       "    <tr>\n",
       "      <th>0</th>\n",
       "      <td>0</td>\n",
       "      <td>2017-05-23 14:06:17</td>\n",
       "      <td>33.51</td>\n",
       "      <td>34.8</td>\n",
       "      <td>0.082131</td>\n",
       "      <td>0.055863</td>\n",
       "      <td>0.050047</td>\n",
       "      <td>0.047925</td>\n",
       "      <td>0.047498</td>\n",
       "      <td>0.046464</td>\n",
       "      <td>...</td>\n",
       "      <td>0.152845</td>\n",
       "      <td>0.152615</td>\n",
       "      <td>0.152927</td>\n",
       "      <td>0.154240</td>\n",
       "      <td>0.155018</td>\n",
       "      <td>0.154725</td>\n",
       "      <td>0.154682</td>\n",
       "      <td>0.154275</td>\n",
       "      <td>0.153477</td>\n",
       "      <td>0.153929</td>\n",
       "    </tr>\n",
       "    <tr>\n",
       "      <th>1</th>\n",
       "      <td>1</td>\n",
       "      <td>2017-05-23 14:08:17</td>\n",
       "      <td>33.49</td>\n",
       "      <td>35.2</td>\n",
       "      <td>0.079510</td>\n",
       "      <td>0.055326</td>\n",
       "      <td>0.049116</td>\n",
       "      <td>0.047579</td>\n",
       "      <td>0.046745</td>\n",
       "      <td>0.046833</td>\n",
       "      <td>...</td>\n",
       "      <td>0.152715</td>\n",
       "      <td>0.153102</td>\n",
       "      <td>0.153551</td>\n",
       "      <td>0.153590</td>\n",
       "      <td>0.153688</td>\n",
       "      <td>0.153370</td>\n",
       "      <td>0.154021</td>\n",
       "      <td>0.155543</td>\n",
       "      <td>0.156220</td>\n",
       "      <td>0.156727</td>\n",
       "    </tr>\n",
       "    <tr>\n",
       "      <th>2</th>\n",
       "      <td>2</td>\n",
       "      <td>2017-05-23 14:10:17</td>\n",
       "      <td>33.46</td>\n",
       "      <td>35.4</td>\n",
       "      <td>0.080599</td>\n",
       "      <td>0.054065</td>\n",
       "      <td>0.049150</td>\n",
       "      <td>0.047537</td>\n",
       "      <td>0.046525</td>\n",
       "      <td>0.046032</td>\n",
       "      <td>...</td>\n",
       "      <td>0.152362</td>\n",
       "      <td>0.152158</td>\n",
       "      <td>0.153204</td>\n",
       "      <td>0.153942</td>\n",
       "      <td>0.154610</td>\n",
       "      <td>0.154629</td>\n",
       "      <td>0.155609</td>\n",
       "      <td>0.155545</td>\n",
       "      <td>0.154884</td>\n",
       "      <td>0.154485</td>\n",
       "    </tr>\n",
       "    <tr>\n",
       "      <th>3</th>\n",
       "      <td>3</td>\n",
       "      <td>2017-05-23 14:12:17</td>\n",
       "      <td>33.33</td>\n",
       "      <td>35.0</td>\n",
       "      <td>0.078024</td>\n",
       "      <td>0.054972</td>\n",
       "      <td>0.049052</td>\n",
       "      <td>0.047920</td>\n",
       "      <td>0.046883</td>\n",
       "      <td>0.046775</td>\n",
       "      <td>...</td>\n",
       "      <td>0.153281</td>\n",
       "      <td>0.153990</td>\n",
       "      <td>0.154499</td>\n",
       "      <td>0.155012</td>\n",
       "      <td>0.154691</td>\n",
       "      <td>0.154643</td>\n",
       "      <td>0.155405</td>\n",
       "      <td>0.155918</td>\n",
       "      <td>0.157645</td>\n",
       "      <td>0.157824</td>\n",
       "    </tr>\n",
       "    <tr>\n",
       "      <th>4</th>\n",
       "      <td>4</td>\n",
       "      <td>2017-05-23 14:14:17</td>\n",
       "      <td>33.32</td>\n",
       "      <td>35.3</td>\n",
       "      <td>0.079973</td>\n",
       "      <td>0.055335</td>\n",
       "      <td>0.049314</td>\n",
       "      <td>0.047373</td>\n",
       "      <td>0.047028</td>\n",
       "      <td>0.046963</td>\n",
       "      <td>...</td>\n",
       "      <td>0.152803</td>\n",
       "      <td>0.153085</td>\n",
       "      <td>0.153295</td>\n",
       "      <td>0.154230</td>\n",
       "      <td>0.155071</td>\n",
       "      <td>0.155624</td>\n",
       "      <td>0.156504</td>\n",
       "      <td>0.156859</td>\n",
       "      <td>0.156634</td>\n",
       "      <td>0.156176</td>\n",
       "    </tr>\n",
       "  </tbody>\n",
       "</table>\n",
       "<p>5 rows × 129 columns</p>\n",
       "</div>"
      ],
      "text/plain": [
       "   index             datetime  soil_moisture  soil_temperature       454  \\\n",
       "0      0  2017-05-23 14:06:17          33.51              34.8  0.082131   \n",
       "1      1  2017-05-23 14:08:17          33.49              35.2  0.079510   \n",
       "2      2  2017-05-23 14:10:17          33.46              35.4  0.080599   \n",
       "3      3  2017-05-23 14:12:17          33.33              35.0  0.078024   \n",
       "4      4  2017-05-23 14:14:17          33.32              35.3  0.079973   \n",
       "\n",
       "        458       462       466       470       474  ...       914       918  \\\n",
       "0  0.055863  0.050047  0.047925  0.047498  0.046464  ...  0.152845  0.152615   \n",
       "1  0.055326  0.049116  0.047579  0.046745  0.046833  ...  0.152715  0.153102   \n",
       "2  0.054065  0.049150  0.047537  0.046525  0.046032  ...  0.152362  0.152158   \n",
       "3  0.054972  0.049052  0.047920  0.046883  0.046775  ...  0.153281  0.153990   \n",
       "4  0.055335  0.049314  0.047373  0.047028  0.046963  ...  0.152803  0.153085   \n",
       "\n",
       "        922       926       930       934       938       942       946  \\\n",
       "0  0.152927  0.154240  0.155018  0.154725  0.154682  0.154275  0.153477   \n",
       "1  0.153551  0.153590  0.153688  0.153370  0.154021  0.155543  0.156220   \n",
       "2  0.153204  0.153942  0.154610  0.154629  0.155609  0.155545  0.154884   \n",
       "3  0.154499  0.155012  0.154691  0.154643  0.155405  0.155918  0.157645   \n",
       "4  0.153295  0.154230  0.155071  0.155624  0.156504  0.156859  0.156634   \n",
       "\n",
       "        950  \n",
       "0  0.153929  \n",
       "1  0.156727  \n",
       "2  0.154485  \n",
       "3  0.157824  \n",
       "4  0.156176  \n",
       "\n",
       "[5 rows x 129 columns]"
      ]
     },
     "execution_count": 70,
     "metadata": {},
     "output_type": "execute_result"
    }
   ],
   "source": [
    "soil.head()"
   ]
  },
  {
   "cell_type": "code",
   "execution_count": 71,
   "metadata": {},
   "outputs": [],
   "source": [
    "X = soil.drop(['index', 'datetime'], axis=1)"
   ]
  },
  {
   "cell_type": "code",
   "execution_count": 72,
   "metadata": {},
   "outputs": [
    {
     "data": {
      "text/html": [
       "<div>\n",
       "<style scoped>\n",
       "    .dataframe tbody tr th:only-of-type {\n",
       "        vertical-align: middle;\n",
       "    }\n",
       "\n",
       "    .dataframe tbody tr th {\n",
       "        vertical-align: top;\n",
       "    }\n",
       "\n",
       "    .dataframe thead th {\n",
       "        text-align: right;\n",
       "    }\n",
       "</style>\n",
       "<table border=\"1\" class=\"dataframe\">\n",
       "  <thead>\n",
       "    <tr style=\"text-align: right;\">\n",
       "      <th></th>\n",
       "      <th>soil_moisture</th>\n",
       "      <th>soil_temperature</th>\n",
       "      <th>454</th>\n",
       "      <th>458</th>\n",
       "      <th>462</th>\n",
       "      <th>466</th>\n",
       "      <th>470</th>\n",
       "      <th>474</th>\n",
       "      <th>478</th>\n",
       "      <th>482</th>\n",
       "      <th>...</th>\n",
       "      <th>914</th>\n",
       "      <th>918</th>\n",
       "      <th>922</th>\n",
       "      <th>926</th>\n",
       "      <th>930</th>\n",
       "      <th>934</th>\n",
       "      <th>938</th>\n",
       "      <th>942</th>\n",
       "      <th>946</th>\n",
       "      <th>950</th>\n",
       "    </tr>\n",
       "  </thead>\n",
       "  <tbody>\n",
       "    <tr>\n",
       "      <th>0</th>\n",
       "      <td>33.51</td>\n",
       "      <td>34.8</td>\n",
       "      <td>0.082131</td>\n",
       "      <td>0.055863</td>\n",
       "      <td>0.050047</td>\n",
       "      <td>0.047925</td>\n",
       "      <td>0.047498</td>\n",
       "      <td>0.046464</td>\n",
       "      <td>0.046669</td>\n",
       "      <td>0.046834</td>\n",
       "      <td>...</td>\n",
       "      <td>0.152845</td>\n",
       "      <td>0.152615</td>\n",
       "      <td>0.152927</td>\n",
       "      <td>0.154240</td>\n",
       "      <td>0.155018</td>\n",
       "      <td>0.154725</td>\n",
       "      <td>0.154682</td>\n",
       "      <td>0.154275</td>\n",
       "      <td>0.153477</td>\n",
       "      <td>0.153929</td>\n",
       "    </tr>\n",
       "    <tr>\n",
       "      <th>1</th>\n",
       "      <td>33.49</td>\n",
       "      <td>35.2</td>\n",
       "      <td>0.079510</td>\n",
       "      <td>0.055326</td>\n",
       "      <td>0.049116</td>\n",
       "      <td>0.047579</td>\n",
       "      <td>0.046745</td>\n",
       "      <td>0.046833</td>\n",
       "      <td>0.046329</td>\n",
       "      <td>0.047021</td>\n",
       "      <td>...</td>\n",
       "      <td>0.152715</td>\n",
       "      <td>0.153102</td>\n",
       "      <td>0.153551</td>\n",
       "      <td>0.153590</td>\n",
       "      <td>0.153688</td>\n",
       "      <td>0.153370</td>\n",
       "      <td>0.154021</td>\n",
       "      <td>0.155543</td>\n",
       "      <td>0.156220</td>\n",
       "      <td>0.156727</td>\n",
       "    </tr>\n",
       "    <tr>\n",
       "      <th>2</th>\n",
       "      <td>33.46</td>\n",
       "      <td>35.4</td>\n",
       "      <td>0.080599</td>\n",
       "      <td>0.054065</td>\n",
       "      <td>0.049150</td>\n",
       "      <td>0.047537</td>\n",
       "      <td>0.046525</td>\n",
       "      <td>0.046032</td>\n",
       "      <td>0.046276</td>\n",
       "      <td>0.046886</td>\n",
       "      <td>...</td>\n",
       "      <td>0.152362</td>\n",
       "      <td>0.152158</td>\n",
       "      <td>0.153204</td>\n",
       "      <td>0.153942</td>\n",
       "      <td>0.154610</td>\n",
       "      <td>0.154629</td>\n",
       "      <td>0.155609</td>\n",
       "      <td>0.155545</td>\n",
       "      <td>0.154884</td>\n",
       "      <td>0.154485</td>\n",
       "    </tr>\n",
       "    <tr>\n",
       "      <th>3</th>\n",
       "      <td>33.33</td>\n",
       "      <td>35.0</td>\n",
       "      <td>0.078024</td>\n",
       "      <td>0.054972</td>\n",
       "      <td>0.049052</td>\n",
       "      <td>0.047920</td>\n",
       "      <td>0.046883</td>\n",
       "      <td>0.046775</td>\n",
       "      <td>0.046835</td>\n",
       "      <td>0.046996</td>\n",
       "      <td>...</td>\n",
       "      <td>0.153281</td>\n",
       "      <td>0.153990</td>\n",
       "      <td>0.154499</td>\n",
       "      <td>0.155012</td>\n",
       "      <td>0.154691</td>\n",
       "      <td>0.154643</td>\n",
       "      <td>0.155405</td>\n",
       "      <td>0.155918</td>\n",
       "      <td>0.157645</td>\n",
       "      <td>0.157824</td>\n",
       "    </tr>\n",
       "    <tr>\n",
       "      <th>4</th>\n",
       "      <td>33.32</td>\n",
       "      <td>35.3</td>\n",
       "      <td>0.079973</td>\n",
       "      <td>0.055335</td>\n",
       "      <td>0.049314</td>\n",
       "      <td>0.047373</td>\n",
       "      <td>0.047028</td>\n",
       "      <td>0.046963</td>\n",
       "      <td>0.046763</td>\n",
       "      <td>0.047051</td>\n",
       "      <td>...</td>\n",
       "      <td>0.152803</td>\n",
       "      <td>0.153085</td>\n",
       "      <td>0.153295</td>\n",
       "      <td>0.154230</td>\n",
       "      <td>0.155071</td>\n",
       "      <td>0.155624</td>\n",
       "      <td>0.156504</td>\n",
       "      <td>0.156859</td>\n",
       "      <td>0.156634</td>\n",
       "      <td>0.156176</td>\n",
       "    </tr>\n",
       "  </tbody>\n",
       "</table>\n",
       "<p>5 rows × 127 columns</p>\n",
       "</div>"
      ],
      "text/plain": [
       "   soil_moisture  soil_temperature       454       458       462       466  \\\n",
       "0          33.51              34.8  0.082131  0.055863  0.050047  0.047925   \n",
       "1          33.49              35.2  0.079510  0.055326  0.049116  0.047579   \n",
       "2          33.46              35.4  0.080599  0.054065  0.049150  0.047537   \n",
       "3          33.33              35.0  0.078024  0.054972  0.049052  0.047920   \n",
       "4          33.32              35.3  0.079973  0.055335  0.049314  0.047373   \n",
       "\n",
       "        470       474       478       482  ...       914       918       922  \\\n",
       "0  0.047498  0.046464  0.046669  0.046834  ...  0.152845  0.152615  0.152927   \n",
       "1  0.046745  0.046833  0.046329  0.047021  ...  0.152715  0.153102  0.153551   \n",
       "2  0.046525  0.046032  0.046276  0.046886  ...  0.152362  0.152158  0.153204   \n",
       "3  0.046883  0.046775  0.046835  0.046996  ...  0.153281  0.153990  0.154499   \n",
       "4  0.047028  0.046963  0.046763  0.047051  ...  0.152803  0.153085  0.153295   \n",
       "\n",
       "        926       930       934       938       942       946       950  \n",
       "0  0.154240  0.155018  0.154725  0.154682  0.154275  0.153477  0.153929  \n",
       "1  0.153590  0.153688  0.153370  0.154021  0.155543  0.156220  0.156727  \n",
       "2  0.153942  0.154610  0.154629  0.155609  0.155545  0.154884  0.154485  \n",
       "3  0.155012  0.154691  0.154643  0.155405  0.155918  0.157645  0.157824  \n",
       "4  0.154230  0.155071  0.155624  0.156504  0.156859  0.156634  0.156176  \n",
       "\n",
       "[5 rows x 127 columns]"
      ]
     },
     "execution_count": 72,
     "metadata": {},
     "output_type": "execute_result"
    }
   ],
   "source": [
    "X.head()"
   ]
  },
  {
   "cell_type": "code",
   "execution_count": 73,
   "metadata": {},
   "outputs": [],
   "source": [
    "scaler = StandardScaler()\n",
    "X = scaler.fit_transform(X)"
   ]
  },
  {
   "cell_type": "code",
   "execution_count": 433,
   "metadata": {},
   "outputs": [],
   "source": [
    "n_clusters = 6\n",
    "hc = AgglomerativeClustering(n_clusters=n_clusters)\n",
    "y_pred_hc = hc.fit_predict(X)"
   ]
  },
  {
   "cell_type": "code",
   "execution_count": 434,
   "metadata": {},
   "outputs": [],
   "source": [
    "def get_distances(X, model, mode='l2'):\n",
    "    \"\"\"\n",
    "    Popular solution to plot HCs here https://stackoverflow.com/a/12311782/2096747\n",
    "    \"\"\"\n",
    "    distances = []\n",
    "    weights = []\n",
    "    children=model.children_\n",
    "    dims = (X.shape[1],1)\n",
    "    distCache = {}\n",
    "    weightCache = {}\n",
    "    for childs in children:\n",
    "        c1 = X[childs[0]].reshape(dims)\n",
    "        c2 = X[childs[1]].reshape(dims)\n",
    "        c1Dist = 0\n",
    "        c1W = 1\n",
    "        c2Dist = 0\n",
    "        c2W = 1\n",
    "        if childs[0] in distCache.keys():\n",
    "            c1Dist = distCache[childs[0]]\n",
    "            c1W = weightCache[childs[0]]\n",
    "        if childs[1] in distCache.keys():\n",
    "            c2Dist = distCache[childs[1]]\n",
    "            c2W = weightCache[childs[1]]\n",
    "        d = np.linalg.norm(c1-c2)\n",
    "        cc = ((c1W*c1)+(c2W*c2))/(c1W+c2W)\n",
    "\n",
    "        X = np.vstack((X,cc.T))\n",
    "\n",
    "        newChild_id = X.shape[0]-1\n",
    "\n",
    "        # How to deal with a higher level cluster merge with lower distance:\n",
    "        if mode=='l2':  # Increase the higher level cluster size suing an l2 norm\n",
    "            added_dist = (c1Dist**2+c2Dist**2)**0.5 \n",
    "            dNew = (d**2 + added_dist**2)**0.5\n",
    "        elif mode == 'max':  # If the previrous clusters had higher distance, use that one\n",
    "            dNew = max(d,c1Dist,c2Dist)\n",
    "        elif mode == 'actual':  # Plot the actual distance.\n",
    "            dNew = d\n",
    "\n",
    "        wNew = (c1W + c2W)\n",
    "        distCache[newChild_id] = dNew\n",
    "        weightCache[newChild_id] = wNew\n",
    "\n",
    "        distances.append(dNew)\n",
    "        weights.append( wNew)\n",
    "    return distances, weights"
   ]
  },
  {
   "cell_type": "code",
   "execution_count": 435,
   "metadata": {},
   "outputs": [],
   "source": [
    "def plot_test(model, title, **kwargs):\n",
    "    distance, weight = get_distances(X,model)\n",
    "    linkage_matrix = np.column_stack([model.children_, distance, weight]).astype(float)\n",
    "    fig = plt.figure(figsize=(20,10))\n",
    "    fig.suptitle(title, fontsize=20)\n",
    "    plt.xlabel('Clusters', fontsize=18)\n",
    "    plt.ylabel('Similarity (0 when max)', fontsize=16)\n",
    "    dendrogram(linkage_matrix, **kwargs)\n",
    "    plt.show()"
   ]
  },
  {
   "cell_type": "code",
   "execution_count": 436,
   "metadata": {},
   "outputs": [
    {
     "data": {
      "image/png": "[encoded data removed]",
      "text/plain": [
       "<Figure size 1440x720 with 1 Axes>"
      ]
     },
     "metadata": {
      "needs_background": "light"
     },
     "output_type": "display_data"
    }
   ],
   "source": [
    "plot_title = 'Hierarchical Cluster on ' + str(n_clusters) + ' Clusters'\n",
    "plot_test(hc, plot_title, count_sort='descending', color_threshold=1, truncate_mode='lastp', \n",
    "          p=n_clusters, show_contracted=True, show_leaf_counts=True)"
   ]
  },
  {
   "cell_type": "code",
   "execution_count": 437,
   "metadata": {},
   "outputs": [
    {
     "data": {
      "image/png": "[encoded data removed]",
      "text/plain": [
       "<Figure size 1440x720 with 1 Axes>"
      ]
     },
     "metadata": {
      "needs_background": "light"
     },
     "output_type": "display_data"
    }
   ],
   "source": [
    "plot_title = 'Hierarchical Cluster on ' + str(n_clusters) + ' Clusters'\n",
    "plot_test(hc, plot_title, count_sort='descending', color_threshold=1, truncate_mode='lastp', \n",
    "          p=30, show_contracted=True, show_leaf_counts=True)"
   ]
  },
  {
   "cell_type": "code",
   "execution_count": 400,
   "metadata": {},
   "outputs": [
    {
     "data": {
      "text/plain": [
       "0.5567592713535017"
      ]
     },
     "execution_count": 400,
     "metadata": {},
     "output_type": "execute_result"
    }
   ],
   "source": [
    "# silhouette score for HC\n",
    "silhouette_score(X, y_pred_hc)"
   ]
  },
  {
   "cell_type": "code",
   "execution_count": 401,
   "metadata": {},
   "outputs": [],
   "source": [
    "km = k_means(X, n_clusters=5)\n",
    "y_pred_km = km[1]"
   ]
  },
  {
   "cell_type": "code",
   "execution_count": 402,
   "metadata": {},
   "outputs": [
    {
     "data": {
      "text/plain": [
       "0.5641012856276295"
      ]
     },
     "execution_count": 402,
     "metadata": {},
     "output_type": "execute_result"
    }
   ],
   "source": [
    "# silhouette score for KMeans\n",
    "silhouette_score(X, y_pred_km)"
   ]
  },
  {
   "cell_type": "code",
   "execution_count": 425,
   "metadata": {},
   "outputs": [],
   "source": [
    "k_centers = list(range(2, 20))\n",
    "silhouette_scores_hc = []\n",
    "for k in k_centers:\n",
    "    cluster = AgglomerativeClustering(n_clusters=k)\n",
    "    y_pred = cluster.fit_predict(X)\n",
    "    score = round(silhouette_score(X, y_pred, metric='euclidean'), 4)\n",
    "    silhouette_scores_hc.append(score)"
   ]
  },
  {
   "cell_type": "code",
   "execution_count": 426,
   "metadata": {},
   "outputs": [],
   "source": [
    "k_centers = list(range(2, 20))\n",
    "silhouette_scores_km = []\n",
    "for k in k_centers:\n",
    "    y_pred = k_means(X, n_clusters=k)[1]\n",
    "    score = round(silhouette_score(X, y_pred, metric='euclidean'), 4)\n",
    "    silhouette_scores_km.append(score)"
   ]
  },
  {
   "cell_type": "code",
   "execution_count": 424,
   "metadata": {},
   "outputs": [
    {
     "data": {
      "text/plain": [
       "[<matplotlib.lines.Line2D at 0x1a1f012518>]"
      ]
     },
     "execution_count": 424,
     "metadata": {},
     "output_type": "execute_result"
    },
    {
     "data": {
      "image/png": "[encoded data removed]",
      "text/plain": [
       "<Figure size 432x288 with 1 Axes>"
      ]
     },
     "metadata": {
      "needs_background": "light"
     },
     "output_type": "display_data"
    }
   ],
   "source": [
    "distortions = []\n",
    "k_centers = list(range(2, 20))\n",
    "for k in k_centers:\n",
    "    cluster = KMeans(n_clusters=k)\n",
    "    cluster.fit(X)\n",
    "    distortions.append(sum(np.min(cdist(X, cluster.cluster_centers_, 'euclidean'), axis=1)) / X.shape[0])\n",
    "plt.plot(k_centers, distortions, 'bx-')"
   ]
  },
  {
   "cell_type": "code",
   "execution_count": 439,
   "metadata": {},
   "outputs": [
    {
     "data": {
      "text/plain": [
       "[<matplotlib.lines.Line2D at 0x1a1f1bd1d0>]"
      ]
     },
     "execution_count": 439,
     "metadata": {},
     "output_type": "execute_result"
    },
    {
     "data": {
      "image/png": "[encoded data removed]",
      "text/plain": [
       "<Figure size 432x288 with 1 Axes>"
      ]
     },
     "metadata": {
      "needs_background": "light"
     },
     "output_type": "display_data"
    }
   ],
   "source": [
    "plt.plot(k_centers, silhouette_scores_km, 'bx-')"
   ]
  },
  {
   "cell_type": "code",
   "execution_count": 438,
   "metadata": {},
   "outputs": [
    {
     "data": {
      "text/plain": [
       "[<matplotlib.lines.Line2D at 0x1a1e826dd8>]"
      ]
     },
     "execution_count": 438,
     "metadata": {},
     "output_type": "execute_result"
    },
    {
     "data": {
      "image/png": "[encoded data removed]",
      "text/plain": [
       "<Figure size 432x288 with 1 Axes>"
      ]
     },
     "metadata": {
      "needs_background": "light"
     },
     "output_type": "display_data"
    }
   ],
   "source": [
    "plt.plot(k_centers, silhouette_scores_hc, 'bx-')"
   ]
  },
  {
   "cell_type": "code",
   "execution_count": null,
   "metadata": {},
   "outputs": [],
   "source": []
  }
 ],
 "metadata": {
  "kernelspec": {
   "display_name": "Python3.5",
   "language": "python",
   "name": "python3.5"
  },
  "language_info": {
   "codemirror_mode": {
    "name": "ipython",
    "version": 3
   },
   "file_extension": ".py",
   "mimetype": "text/x-python",
   "name": "python",
   "nbconvert_exporter": "python",
   "pygments_lexer": "ipython3",
   "version": "3.5.6"
  }
 },
 "nbformat": 4,
 "nbformat_minor": 4
}
